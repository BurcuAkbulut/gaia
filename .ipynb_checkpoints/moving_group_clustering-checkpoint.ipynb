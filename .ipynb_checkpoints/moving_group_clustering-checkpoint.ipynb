{
 "cells": [
  {
   "cell_type": "markdown",
   "metadata": {},
   "source": [
    "## Taller, Curso de Astrofísica OAN 2018-I\n",
    "\n",
    "Módulo \"Star and Planet Formation\"\n",
    "\n",
    "- Sco-Cen Association https://www.cosmos.esa.int/web/gaia/dr2\n",
    "- Gaia DR2 info https://www.cosmos.esa.int/web/gaia/dr2\n",
    "- Gaia data model https://gea.esac.esa.int/archive/documentation/GDR2/Gaia_archive/chap_datamodel/sec_dm_main_tables/ssec_dm_gaia_source.html\n",
    "- Gaussian Mixture from sklearn http://scikit-learn.org/stable/modules/mixture.html\n"
   ]
  },
  {
   "cell_type": "code",
   "execution_count": 1,
   "metadata": {
    "collapsed": true
   },
   "outputs": [],
   "source": [
    "import pandas as pd\n",
    "import matplotlib.pyplot as plt\n",
    "import numpy as np\n",
    "from sklearn.mixture import GMM\n",
    "%matplotlib inline"
   ]
  },
  {
   "cell_type": "code",
   "execution_count": null,
   "metadata": {
    "collapsed": true
   },
   "outputs": [],
   "source": [
    "# Suppress warnings. Comment this out if you wish to see the warning messages\n",
    "import warnings\n",
    "warnings.filterwarnings('ignore')"
   ]
  },
  {
   "cell_type": "code",
   "execution_count": 6,
   "metadata": {
    "collapsed": true
   },
   "outputs": [],
   "source": [
    "gas=pd.read_csv(\"sco-cen.csv\",index_col=0)"
   ]
  },
  {
   "cell_type": "code",
   "execution_count": 8,
   "metadata": {},
   "outputs": [
    {
     "data": {
      "text/html": [
       "<div>\n",
       "<table border=\"1\" class=\"dataframe\">\n",
       "  <thead>\n",
       "    <tr style=\"text-align: right;\">\n",
       "      <th></th>\n",
       "      <th>x</th>\n",
       "      <th>y</th>\n",
       "      <th>z</th>\n",
       "      <th>vx</th>\n",
       "      <th>vy</th>\n",
       "      <th>vz</th>\n",
       "      <th>id</th>\n",
       "    </tr>\n",
       "  </thead>\n",
       "  <tbody>\n",
       "    <tr>\n",
       "      <th>0</th>\n",
       "      <td>-97.194204</td>\n",
       "      <td>-85.197691</td>\n",
       "      <td>-88.438109</td>\n",
       "      <td>6.158076</td>\n",
       "      <td>213.199731</td>\n",
       "      <td>2.396119</td>\n",
       "      <td>1.0</td>\n",
       "    </tr>\n",
       "    <tr>\n",
       "      <th>1</th>\n",
       "      <td>-42.552635</td>\n",
       "      <td>-87.704235</td>\n",
       "      <td>-78.201006</td>\n",
       "      <td>6.114842</td>\n",
       "      <td>212.755781</td>\n",
       "      <td>2.094273</td>\n",
       "      <td>1.0</td>\n",
       "    </tr>\n",
       "    <tr>\n",
       "      <th>2</th>\n",
       "      <td>-56.618763</td>\n",
       "      <td>-94.316484</td>\n",
       "      <td>-82.573662</td>\n",
       "      <td>4.171674</td>\n",
       "      <td>212.820311</td>\n",
       "      <td>2.174304</td>\n",
       "      <td>1.0</td>\n",
       "    </tr>\n",
       "    <tr>\n",
       "      <th>3</th>\n",
       "      <td>-76.672044</td>\n",
       "      <td>-59.663928</td>\n",
       "      <td>-96.309322</td>\n",
       "      <td>5.310793</td>\n",
       "      <td>212.972091</td>\n",
       "      <td>4.034915</td>\n",
       "      <td>1.0</td>\n",
       "    </tr>\n",
       "    <tr>\n",
       "      <th>4</th>\n",
       "      <td>-37.592208</td>\n",
       "      <td>-75.046785</td>\n",
       "      <td>-86.366686</td>\n",
       "      <td>6.777685</td>\n",
       "      <td>211.303613</td>\n",
       "      <td>2.055336</td>\n",
       "      <td>1.0</td>\n",
       "    </tr>\n",
       "  </tbody>\n",
       "</table>\n",
       "</div>"
      ],
      "text/plain": [
       "           x          y          z        vx          vy        vz   id\n",
       "0 -97.194204 -85.197691 -88.438109  6.158076  213.199731  2.396119  1.0\n",
       "1 -42.552635 -87.704235 -78.201006  6.114842  212.755781  2.094273  1.0\n",
       "2 -56.618763 -94.316484 -82.573662  4.171674  212.820311  2.174304  1.0\n",
       "3 -76.672044 -59.663928 -96.309322  5.310793  212.972091  4.034915  1.0\n",
       "4 -37.592208 -75.046785 -86.366686  6.777685  211.303613  2.055336  1.0"
      ]
     },
     "execution_count": 8,
     "metadata": {},
     "output_type": "execute_result"
    }
   ],
   "source": [
    "gas.head()"
   ]
  },
  {
   "cell_type": "code",
   "execution_count": 14,
   "metadata": {},
   "outputs": [],
   "source": [
    "X=gas[['x','y','z','vz','vy','vz']]"
   ]
  },
  {
   "cell_type": "code",
   "execution_count": 17,
   "metadata": {},
   "outputs": [
    {
     "name": "stderr",
     "output_type": "stream",
     "text": [
      "/Users/germanchaparro/miniconda2/envs/py36/lib/python3.5/site-packages/sklearn/utils/deprecation.py:52: DeprecationWarning: Class GMM is deprecated; The class GMM is deprecated in 0.18 and will be  removed in 0.20. Use class GaussianMixture instead.\n",
      "  warnings.warn(msg, category=DeprecationWarning)\n"
     ]
    }
   ],
   "source": [
    "gmm = GMM(2, covariance_type='full', random_state=0)"
   ]
  },
  {
   "cell_type": "code",
   "execution_count": null,
   "metadata": {
    "collapsed": true
   },
   "outputs": [],
   "source": []
  }
 ],
 "metadata": {
  "kernelspec": {
   "display_name": "Python 3",
   "language": "python",
   "name": "python3"
  },
  "language_info": {
   "codemirror_mode": {
    "name": "ipython",
    "version": 3
   },
   "file_extension": ".py",
   "mimetype": "text/x-python",
   "name": "python",
   "nbconvert_exporter": "python",
   "pygments_lexer": "ipython3",
   "version": "3.5.3"
  }
 },
 "nbformat": 4,
 "nbformat_minor": 2
}
