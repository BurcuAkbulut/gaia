{
 "cells": [
  {
   "cell_type": "code",
   "execution_count": 12,
   "metadata": {
    "collapsed": true
   },
   "outputs": [],
   "source": [
    "import pandas as pd\n",
    "import matplotlib.pyplot as plt\n",
    "import numpy as np\n",
    "import astropy.units as u\n",
    "import astropy.stats as ast\n",
    "from mpl_toolkits.mplot3d import Axes3D\n",
    "%matplotlib inline"
   ]
  },
  {
   "cell_type": "code",
   "execution_count": 25,
   "metadata": {
    "collapsed": true
   },
   "outputs": [],
   "source": [
    "import ipywidgets as widgets\n"
   ]
  },
  {
   "cell_type": "code",
   "execution_count": 3,
   "metadata": {},
   "outputs": [],
   "source": [
    "gas=pd.read_csv(\"sco-cen.csv\",index_col=0)"
   ]
  },
  {
   "cell_type": "code",
   "execution_count": 33,
   "metadata": {},
   "outputs": [],
   "source": [
    "pctokm=float((1*u.pc).to(u.km)/u.km)\n",
    "yrtos=(1*u.yr).to(u.s)\n",
    "tstep=float(yrtos*1e5/u.s) # 100k years"
   ]
  },
  {
   "cell_type": "code",
   "execution_count": 67,
   "metadata": {},
   "outputs": [],
   "source": [
    "def view_image(it):\n",
    "    cev=np.array(pctokm*cgas[['xa','ya','za']])-np.array(cgas[['vx','vy','vz']]*tstep*it)\n",
    "    cevp=cev/pctokm\n",
    "    fig = plt.figure(figsize=(10,10))\n",
    "    ax = fig.add_subplot(111, projection='3d')\n",
    "    ax.scatter(cevp[:,0],cevp[:,1],cevp[:,2])\n",
    "    ax.set_xlim3d([-8400, -8000])\n",
    "    ax.set_xlabel('X')\n",
    "\n",
    "    ax.set_ylim3d([-4500, 0])\n",
    "    ax.set_ylabel('Y')\n",
    "\n",
    "    ax.set_zlim3d([-10, 120])\n",
    "    ax.set_zlabel('Z')"
   ]
  },
  {
   "cell_type": "code",
   "execution_count": 406,
   "metadata": {},
   "outputs": [
    {
     "data": {
      "text/plain": [
       "[0, 1, 2, 0, 1, 2, 0, 1, 2]"
      ]
     },
     "execution_count": 406,
     "metadata": {},
     "output_type": "execute_result"
    }
   ],
   "source": [
    "list(range(3))*3"
   ]
  },
  {
   "cell_type": "code",
   "execution_count": 409,
   "metadata": {},
   "outputs": [
    {
     "name": "stdout",
     "output_type": "stream",
     "text": [
      "12\n"
     ]
    },
    {
     "data": {
      "image/png": "[encoded data removed]",
      "text/plain": [
       "<matplotlib.figure.Figure at 0x111591e80>"
      ]
     },
     "metadata": {},
     "output_type": "display_data"
    },
    {
     "name": "stdout",
     "output_type": "stream",
     "text": [
      "6.0\n"
     ]
    },
    {
     "data": {
      "image/png": "[encoded data removed]",
      "text/plain": [
       "<matplotlib.figure.Figure at 0x11efa3e10>"
      ]
     },
     "metadata": {},
     "output_type": "display_data"
    }
   ],
   "source": [
    "cgas=gas[gas.id==1]\n",
    "cgas=cgas.drop([cgas.index[0]])\n",
    "#cgas=cgas.drop([cgas.index[6]])\n",
    "cgas=cgas.drop([cgas.index[2]])\n",
    "#cgas=cgas.drop([cgas.index[5]])\n",
    "mat=np.zeros(3)\n",
    "print(len(cgas))\n",
    "time=[]\n",
    "amax=[]\n",
    "devl=[]\n",
    "tex=[]\n",
    "stix=[]\n",
    "for it in range(300):\n",
    "    cev=np.array(pctokm*cgas[['xa','ya','za']])-np.array(cgas[['vx','vy','vz']]*tstep*it)\n",
    "    mat=np.vstack((mat,cev/pctokm))\n",
    "    devl+=[np.std(cev,axis=0)/pctokm]\n",
    "    amax+=[np.argmax(np.linalg.norm(cev-cev.mean(axis=0),axis=1)/pctokm)]\n",
    "    time+=[it/10]\n",
    "    tex+=[it/10]*len(cev)\n",
    "    stix+=list(range(len(cev)))\n",
    "devl=np.array(devl)\n",
    "for i in range(3):\n",
    "    plt.scatter(time,devl[:,i])\n",
    "plt.xlabel(\"time (Myr)\")\n",
    "plt.ylabel(\"std (pc)\")\n",
    "plt.show()\n",
    "plt.plot(time,np.linalg.norm(devl,axis=1))\n",
    "print(time[np.argmin(np.linalg.norm(devl,axis=1))])\n",
    "plt.xlabel(\"time (Myr)\")\n",
    "plt.ylabel(\"std (pc)\")\n",
    "plt.show()"
   ]
  },
  {
   "cell_type": "code",
   "execution_count": 413,
   "metadata": {},
   "outputs": [],
   "source": [
    "mat=mat[1:]\n",
    "pd.DataFrame({'Id':stix,'t (Myr)':tex,'x (pc)':mat[:,0],'y (pc)':mat[:,1],'z (pc)':mat[:,2]}).to_csv(\"ages_ucl.csv\")"
   ]
  },
  {
   "cell_type": "code",
   "execution_count": 210,
   "metadata": {},
   "outputs": [
    {
     "data": {
      "application/vnd.jupyter.widget-view+json": {
       "model_id": "2e785b50afb74eecb1ba9db7923ce54c",
       "version_major": 2,
       "version_minor": 0
      },
      "text/plain": [
       "interactive(children=(IntSlider(value=0, description='it', max=200, step=10), Output()), _dom_classes=('widget…"
      ]
     },
     "metadata": {},
     "output_type": "display_data"
    },
    {
     "data": {
      "text/plain": [
       "<function __main__.view_image>"
      ]
     },
     "execution_count": 210,
     "metadata": {},
     "output_type": "execute_result"
    }
   ],
   "source": [
    "widgets.interact(view_image,it=widgets.IntSlider(min=0, max=200, step=10))"
   ]
  },
  {
   "cell_type": "code",
   "execution_count": 206,
   "metadata": {
    "scrolled": true
   },
   "outputs": [
    {
     "data": {
      "text/plain": [
       "[5,\n",
       " 5,\n",
       " 5,\n",
       " 5,\n",
       " 5,\n",
       " 5,\n",
       " 5,\n",
       " 5,\n",
       " 5,\n",
       " 5,\n",
       " 5,\n",
       " 5,\n",
       " 5,\n",
       " 5,\n",
       " 5,\n",
       " 5,\n",
       " 5,\n",
       " 5,\n",
       " 5,\n",
       " 5,\n",
       " 5,\n",
       " 5,\n",
       " 5,\n",
       " 5,\n",
       " 5,\n",
       " 5,\n",
       " 5,\n",
       " 10,\n",
       " 10,\n",
       " 10,\n",
       " 10,\n",
       " 10,\n",
       " 10,\n",
       " 10,\n",
       " 10,\n",
       " 10,\n",
       " 10,\n",
       " 10,\n",
       " 10,\n",
       " 10,\n",
       " 10,\n",
       " 10,\n",
       " 10,\n",
       " 10,\n",
       " 10,\n",
       " 10,\n",
       " 10,\n",
       " 10,\n",
       " 10,\n",
       " 10,\n",
       " 10,\n",
       " 10,\n",
       " 10,\n",
       " 10,\n",
       " 5,\n",
       " 5,\n",
       " 5,\n",
       " 5,\n",
       " 5,\n",
       " 5,\n",
       " 5,\n",
       " 5,\n",
       " 5,\n",
       " 5,\n",
       " 5,\n",
       " 5,\n",
       " 5,\n",
       " 5,\n",
       " 5,\n",
       " 5,\n",
       " 5,\n",
       " 5,\n",
       " 5,\n",
       " 5,\n",
       " 5,\n",
       " 5,\n",
       " 5,\n",
       " 5,\n",
       " 5,\n",
       " 5,\n",
       " 5,\n",
       " 5,\n",
       " 5,\n",
       " 5,\n",
       " 5,\n",
       " 5,\n",
       " 5,\n",
       " 5,\n",
       " 5,\n",
       " 5,\n",
       " 5,\n",
       " 5,\n",
       " 5,\n",
       " 5,\n",
       " 5,\n",
       " 5,\n",
       " 5,\n",
       " 5,\n",
       " 5,\n",
       " 5]"
      ]
     },
     "execution_count": 206,
     "metadata": {},
     "output_type": "execute_result"
    }
   ],
   "source": [
    "amax"
   ]
  },
  {
   "cell_type": "code",
   "execution_count": 428,
   "metadata": {},
   "outputs": [
    {
     "name": "stdout",
     "output_type": "stream",
     "text": [
      "16\n"
     ]
    },
    {
     "data": {
      "image/png": "[encoded data removed]",
      "text/plain": [
       "<matplotlib.figure.Figure at 0x11eb52128>"
      ]
     },
     "metadata": {},
     "output_type": "display_data"
    },
    {
     "name": "stdout",
     "output_type": "stream",
     "text": [
      "8.4\n"
     ]
    },
    {
     "data": {
      "image/png": "[encoded data removed]",
      "text/plain": [
       "<matplotlib.figure.Figure at 0x11f10f898>"
      ]
     },
     "metadata": {},
     "output_type": "display_data"
    }
   ],
   "source": [
    "cgas=gas[gas.id==2]\n",
    "cgas=cgas.drop([cgas.index[10]])\n",
    "cgas=cgas.drop([cgas.index[16]])\n",
    "cgas=cgas.drop([cgas.index[5]])\n",
    "cgas=cgas.drop([cgas.index[1]])\n",
    "cgas=cgas.drop([cgas.index[1]])\n",
    "cgas=cgas.drop([cgas.index[5]])\n",
    "cgas=cgas.drop([cgas.index[12]])\n",
    "cgas=cgas.drop([cgas.index[16]])\n",
    "print(len(cgas))\n",
    "time=[]\n",
    "amax=[]\n",
    "devl=[]\n",
    "mat=np.zeros(3)\n",
    "tex=[]\n",
    "stix=[]\n",
    "for it in range(300):\n",
    "    cev=np.array(pctokm*cgas[['xa','ya','za']])-np.array(cgas[['vx','vy','vz']]*tstep*it)\n",
    "    devl+=[np.std(cev,axis=0)/pctokm]\n",
    "    amax+=[np.argmax(np.linalg.norm(cev-cev.mean(axis=0),axis=1)/pctokm)]\n",
    "    time+=[it/10]\n",
    "    mat=np.vstack((mat,cev/pctokm))\n",
    "    tex+=[it/10]*len(cev)\n",
    "    stix+=list(range(len(cev)))\n",
    "devl=np.array(devl)\n",
    "for i in range(3):\n",
    "    plt.scatter(time,devl[:,i])\n",
    "plt.xlabel(\"time (Myr)\")\n",
    "plt.ylabel(\"std (pc)\")\n",
    "plt.show()\n",
    "plt.plot(time,np.linalg.norm(devl,axis=1))\n",
    "print(time[np.argmin(np.linalg.norm(devl,axis=1))])\n",
    "plt.xlabel(\"time (Myr)\")\n",
    "plt.ylabel(\"std (pc)\")\n",
    "plt.show()"
   ]
  },
  {
   "cell_type": "code",
   "execution_count": 429,
   "metadata": {},
   "outputs": [
    {
     "data": {
      "text/plain": [
       "4801"
      ]
     },
     "execution_count": 429,
     "metadata": {},
     "output_type": "execute_result"
    }
   ],
   "source": [
    "len(mat)"
   ]
  },
  {
   "cell_type": "code",
   "execution_count": 430,
   "metadata": {},
   "outputs": [],
   "source": [
    "mat=mat[1:]\n",
    "pd.DataFrame({'Id':stix,'t (Myr)':tex,'x (pc)':mat[:,0],'y (pc)':mat[:,1],'z (pc)':mat[:,2]}).to_csv(\"ages_lcc.csv\")"
   ]
  },
  {
   "cell_type": "code",
   "execution_count": 190,
   "metadata": {},
   "outputs": [
    {
     "data": {
      "application/vnd.jupyter.widget-view+json": {
       "model_id": "376224dd2d494bcd93b4016344c10a59",
       "version_major": 2,
       "version_minor": 0
      },
      "text/plain": [
       "interactive(children=(IntSlider(value=0, description='it', max=120, step=10), Output()), _dom_classes=('widget…"
      ]
     },
     "metadata": {},
     "output_type": "display_data"
    },
    {
     "data": {
      "text/plain": [
       "<function __main__.view_image>"
      ]
     },
     "execution_count": 190,
     "metadata": {},
     "output_type": "execute_result"
    }
   ],
   "source": [
    "widgets.interact(view_image,it=widgets.IntSlider(min=0, max=120, step=10))"
   ]
  },
  {
   "cell_type": "code",
   "execution_count": 437,
   "metadata": {},
   "outputs": [
    {
     "name": "stdout",
     "output_type": "stream",
     "text": [
      "12\n"
     ]
    },
    {
     "data": {
      "image/png": "[encoded data removed]",
      "text/plain": [
       "<matplotlib.figure.Figure at 0x11f4d0080>"
      ]
     },
     "metadata": {},
     "output_type": "display_data"
    },
    {
     "name": "stdout",
     "output_type": "stream",
     "text": [
      "4.7\n"
     ]
    },
    {
     "data": {
      "image/png": "[encoded data removed]",
      "text/plain": [
       "<matplotlib.figure.Figure at 0x11edd1c50>"
      ]
     },
     "metadata": {},
     "output_type": "display_data"
    }
   ],
   "source": [
    "cgas=gas[gas.id==4]\n",
    "cgas=cgas.drop([cgas.index[7]])\n",
    "#cgas=cgas.drop([cgas.index[1]])\n",
    "print(len(cgas))\n",
    "time=[]\n",
    "amax=[]\n",
    "devl=[]\n",
    "mat=np.zeros(3)\n",
    "tex=[]\n",
    "stix=[]\n",
    "for it in range(300):\n",
    "    cev=np.array(pctokm*cgas[['xa','ya','za']])-np.array(cgas[['vx','vy','vz']]*tstep*it)\n",
    "    devl+=[np.std(cev,axis=0)/pctokm]\n",
    "    amax+=[np.argmax(np.linalg.norm(cev-cev.mean(axis=0),axis=1)/pctokm)]\n",
    "    time+=[it/10]\n",
    "    mat=np.vstack((mat,cev/pctokm))\n",
    "    tex+=[it/10]*len(cev)\n",
    "    stix+=list(range(len(cev)))\n",
    "devl=np.array(devl)\n",
    "for i in range(3):\n",
    "    plt.scatter(time,devl[:,i])\n",
    "plt.xlabel(\"time (Myr)\")\n",
    "plt.ylabel(\"std (pc)\")\n",
    "plt.show()\n",
    "plt.plot(time,np.linalg.norm(devl,axis=1))\n",
    "print(time[np.argmin(np.linalg.norm(devl,axis=1))])\n",
    "plt.xlabel(\"time (Myr)\")\n",
    "plt.ylabel(\"std (pc)\")\n",
    "plt.show()"
   ]
  },
  {
   "cell_type": "code",
   "execution_count": 438,
   "metadata": {
    "collapsed": true
   },
   "outputs": [],
   "source": [
    "mat=mat[1:]\n",
    "pd.DataFrame({'Id':stix,'t (Myr)':tex,'x (pc)':mat[:,0],'y (pc)':mat[:,1],'z (pc)':mat[:,2]}).to_csv(\"ages_twhya.csv\")"
   ]
  },
  {
   "cell_type": "code",
   "execution_count": 281,
   "metadata": {
    "scrolled": true
   },
   "outputs": [
    {
     "data": {
      "text/plain": [
       "[1, 1, 1, 1, 1]"
      ]
     },
     "execution_count": 281,
     "metadata": {},
     "output_type": "execute_result"
    }
   ],
   "source": [
    "amax[-5:]"
   ]
  },
  {
   "cell_type": "code",
   "execution_count": 297,
   "metadata": {},
   "outputs": [
    {
     "data": {
      "application/vnd.jupyter.widget-view+json": {
       "model_id": "43e2aad28e304370ad94fa29a79e2a1d",
       "version_major": 2,
       "version_minor": 0
      },
      "text/plain": [
       "interactive(children=(IntSlider(value=0, description='it', max=200, step=10), Output()), _dom_classes=('widget…"
      ]
     },
     "metadata": {},
     "output_type": "display_data"
    },
    {
     "data": {
      "text/plain": [
       "<function __main__.view_image>"
      ]
     },
     "execution_count": 297,
     "metadata": {},
     "output_type": "execute_result"
    }
   ],
   "source": [
    "widgets.interact(view_image,it=widgets.IntSlider(min=0, max=200, step=10))"
   ]
  },
  {
   "cell_type": "code",
   "execution_count": 435,
   "metadata": {},
   "outputs": [
    {
     "name": "stdout",
     "output_type": "stream",
     "text": [
      "28\n"
     ]
    },
    {
     "data": {
      "image/png": "[encoded data removed]",
      "text/plain": [
       "<matplotlib.figure.Figure at 0x11fa2feb8>"
      ]
     },
     "metadata": {},
     "output_type": "display_data"
    },
    {
     "name": "stdout",
     "output_type": "stream",
     "text": [
      "5.9\n"
     ]
    },
    {
     "data": {
      "image/png": "[encoded data removed]",
      "text/plain": [
       "<matplotlib.figure.Figure at 0x11f2d6550>"
      ]
     },
     "metadata": {},
     "output_type": "display_data"
    }
   ],
   "source": [
    "cgas=gas[gas.id==5]\n",
    "cgas=cgas.drop([cgas.index[38],cgas.index[40]])\n",
    "cgas=cgas.drop([cgas.index[22]])\n",
    "cgas=cgas.drop([cgas.index[41]])\n",
    "cgas=cgas.drop([cgas.index[37]])\n",
    "cgas=cgas.drop([cgas.index[9]])\n",
    "cgas=cgas.drop([cgas.index[10]])\n",
    "cgas=cgas.drop([cgas.index[3]])\n",
    "cgas=cgas.drop([cgas.index[17]])\n",
    "cgas=cgas.drop([cgas.index[2]])\n",
    "cgas=cgas.drop([cgas.index[19]])\n",
    "cgas=cgas.drop([cgas.index[33]])\n",
    "cgas=cgas.drop([cgas.index[27]])\n",
    "cgas=cgas.drop([cgas.index[10]])\n",
    "cgas=cgas.drop([cgas.index[0]])\n",
    "cgas=cgas.drop([cgas.index[7]])\n",
    "cgas=cgas.drop([cgas.index[19]])\n",
    "cgas=cgas.drop([cgas.index[12]])\n",
    "print(len(cgas))\n",
    "time=[]\n",
    "amax=[]\n",
    "devl=[]\n",
    "mat=np.zeros(3)\n",
    "tex=[]\n",
    "stix=[]\n",
    "for it in range(300):\n",
    "    cev=np.array(pctokm*cgas[['xa','ya','za']])-np.array(cgas[['vx','vy','vz']]*tstep*it)\n",
    "    devl+=[np.std(cev,axis=0)/pctokm]\n",
    "    amax+=[np.argmax(np.linalg.norm(cev-cev.mean(axis=0),axis=1)/pctokm)]\n",
    "    time+=[it/10]\n",
    "    mat=np.vstack((mat,cev/pctokm))\n",
    "    tex+=[it/10]*len(cev)\n",
    "    stix+=list(range(len(cev)))\n",
    "devl=np.array(devl)\n",
    "for i in range(3):\n",
    "    plt.scatter(time,devl[:,i])\n",
    "plt.xlabel(\"time (Myr)\")\n",
    "plt.ylabel(\"std (pc)\")\n",
    "plt.show()\n",
    "plt.plot(time,np.linalg.norm(devl,axis=1))\n",
    "print(time[np.argmin(np.linalg.norm(devl,axis=1))])\n",
    "plt.xlabel(\"time (Myr)\")\n",
    "plt.ylabel(\"std (pc)\")\n",
    "plt.show()"
   ]
  },
  {
   "cell_type": "code",
   "execution_count": 387,
   "metadata": {},
   "outputs": [
    {
     "data": {
      "application/vnd.jupyter.widget-view+json": {
       "model_id": "cdc95c8d6378403798c88e3d1051aee6",
       "version_major": 2,
       "version_minor": 0
      },
      "text/plain": [
       "interactive(children=(IntSlider(value=0, description='it', max=150, step=10), Output()), _dom_classes=('widget…"
      ]
     },
     "metadata": {},
     "output_type": "display_data"
    },
    {
     "data": {
      "text/plain": [
       "<function __main__.view_image>"
      ]
     },
     "execution_count": 387,
     "metadata": {},
     "output_type": "execute_result"
    }
   ],
   "source": [
    "widgets.interact(view_image,it=widgets.IntSlider(min=0, max=150, step=10))"
   ]
  },
  {
   "cell_type": "code",
   "execution_count": 436,
   "metadata": {
    "collapsed": true
   },
   "outputs": [],
   "source": [
    "mat=mat[1:]\n",
    "pd.DataFrame({'Id':stix,'t (Myr)':tex,'x (pc)':mat[:,0],'y (pc)':mat[:,1],'z (pc)':mat[:,2]}).to_csv(\"ages_bpic.csv\")"
   ]
  },
  {
   "cell_type": "code",
   "execution_count": 456,
   "metadata": {
    "scrolled": false
   },
   "outputs": [
    {
     "name": "stdout",
     "output_type": "stream",
     "text": [
      "123\n",
      "0.0\n",
      "122\n",
      "0.0\n",
      "121\n",
      "0.0\n",
      "120\n",
      "0.3\n",
      "119\n",
      "0.1\n",
      "118\n",
      "0.0\n",
      "117\n",
      "0.1\n",
      "116\n",
      "0.1\n",
      "115\n",
      "0.0\n",
      "114\n",
      "0.0\n",
      "113\n",
      "0.0\n",
      "112\n",
      "0.0\n",
      "111\n",
      "0.0\n",
      "110\n",
      "0.0\n",
      "109\n",
      "0.0\n",
      "108\n",
      "0.0\n",
      "107\n",
      "0.0\n",
      "106\n",
      "0.0\n",
      "105\n",
      "0.0\n",
      "104\n",
      "0.0\n",
      "103\n",
      "0.0\n",
      "102\n",
      "0.0\n",
      "101\n",
      "0.0\n",
      "100\n",
      "0.0\n",
      "99\n",
      "0.0\n",
      "98\n",
      "0.0\n",
      "97\n",
      "0.0\n",
      "96\n",
      "0.0\n",
      "95\n",
      "0.0\n",
      "94\n",
      "0.0\n",
      "93\n",
      "0.0\n",
      "92\n",
      "0.0\n",
      "91\n",
      "0.0\n",
      "90\n",
      "0.0\n",
      "89\n",
      "0.0\n",
      "88\n",
      "0.0\n",
      "87\n",
      "0.1\n",
      "86\n",
      "0.2\n",
      "85\n",
      "0.1\n",
      "84\n",
      "0.1\n",
      "83\n",
      "0.2\n",
      "82\n",
      "0.3\n",
      "81\n",
      "0.3\n",
      "80\n",
      "0.4\n",
      "79\n",
      "0.7\n",
      "78\n",
      "0.9\n",
      "77\n",
      "0.9\n",
      "76\n",
      "0.8\n",
      "75\n",
      "1.0\n",
      "74\n",
      "1.0\n",
      "73\n",
      "0.9\n",
      "72\n",
      "1.2\n",
      "71\n",
      "1.1\n",
      "70\n",
      "1.1\n",
      "69\n",
      "1.0\n",
      "68\n",
      "1.0\n",
      "67\n",
      "1.0\n",
      "66\n",
      "1.0\n",
      "65\n",
      "1.1\n",
      "64\n",
      "1.1\n",
      "63\n",
      "1.3\n",
      "62\n",
      "1.2\n",
      "61\n",
      "1.3\n",
      "60\n",
      "1.3\n",
      "59\n",
      "1.5\n",
      "58\n",
      "1.5\n",
      "57\n",
      "1.4\n",
      "56\n",
      "1.4\n",
      "55\n",
      "1.3\n",
      "54\n",
      "1.5\n",
      "53\n",
      "1.3\n",
      "52\n",
      "1.2\n",
      "51\n",
      "1.2\n",
      "50\n",
      "1.3\n",
      "49\n",
      "1.3\n",
      "48\n",
      "1.5\n",
      "47\n",
      "1.5\n",
      "46\n",
      "1.5\n",
      "45\n",
      "1.5\n",
      "44\n",
      "1.6\n",
      "43\n",
      "1.6\n",
      "42\n",
      "1.3\n",
      "41\n",
      "1.5\n",
      "40\n",
      "1.4\n",
      "39\n",
      "1.5\n",
      "38\n",
      "1.3\n",
      "37\n",
      "1.5\n",
      "36\n",
      "1.7\n",
      "35\n",
      "2.0\n",
      "34\n",
      "2.0\n",
      "33\n",
      "2.3\n",
      "32\n",
      "2.1\n",
      "31\n",
      "1.9\n",
      "30\n",
      "1.8\n",
      "29\n",
      "2.0\n",
      "28\n",
      "1.3\n",
      "27\n",
      "1.5\n",
      "26\n",
      "2.0\n",
      "25\n",
      "2.0\n",
      "24\n",
      "2.1\n"
     ]
    }
   ],
   "source": [
    "cgas=gas[gas.id==3]\n",
    "di=100000\n",
    "#cgas=cgas.drop([cgas.index[7]])\n",
    "#cgas=cgas.drop([cgas.index[1]])\n",
    "for i in range(100):\n",
    "    if i!=0:\n",
    "        cgas=cgas.drop([cgas.index[di]]) \n",
    "    print(len(cgas))\n",
    "    time=[]\n",
    "    amax=[]\n",
    "    devl=[]\n",
    "    mat=np.zeros(3)\n",
    "    tex=[]\n",
    "    stix=[]\n",
    "    for it in range(400):\n",
    "        cev=np.array(pctokm*cgas[['xa','ya','za']])-np.array(cgas[['vx','vy','vz']]*tstep*it)\n",
    "        devl+=[np.std(cev,axis=0)/pctokm]\n",
    "        amax+=[np.argmax(np.linalg.norm(cev-cev.mean(axis=0),axis=1)/pctokm)]\n",
    "        time+=[it/10]\n",
    "        mat=np.vstack((mat,cev/pctokm))\n",
    "        tex+=[it/10]*len(cev)\n",
    "        stix+=list(range(len(cev)))\n",
    "    devl=np.array(devl)\n",
    "    di=amax[-1]\n",
    "#    for i in range(3):\n",
    "#        plt.scatter(time,devl[:,i])\n",
    "#    plt.xlabel(\"time (Myr)\")\n",
    "#    plt.ylabel(\"std (pc)\")\n",
    "#    plt.show()\n",
    "#    plt.plot(time,np.linalg.norm(devl,axis=1))\n",
    "    print(time[np.argmin(np.linalg.norm(devl,axis=1))])\n",
    "#    plt.xlabel(\"time (Myr)\")\n",
    "#    plt.ylabel(\"std (pc)\")\n",
    "#    plt.show()"
   ]
  },
  {
   "cell_type": "code",
   "execution_count": 455,
   "metadata": {},
   "outputs": [
    {
     "data": {
      "image/png": "[encoded data removed]",
      "text/plain": [
       "<matplotlib.figure.Figure at 0x11e8d9cc0>"
      ]
     },
     "metadata": {},
     "output_type": "display_data"
    },
    {
     "name": "stdout",
     "output_type": "stream",
     "text": [
      "4.1\n"
     ]
    },
    {
     "data": {
      "image/png": "[encoded data removed]",
      "text/plain": [
       "<matplotlib.figure.Figure at 0x11fa13da0>"
      ]
     },
     "metadata": {},
     "output_type": "display_data"
    }
   ],
   "source": [
    "    for i in range(3):\n",
    "        plt.scatter(time,devl[:,i])\n",
    "    plt.xlabel(\"time (Myr)\")\n",
    "    plt.ylabel(\"std (pc)\")\n",
    "    plt.show()\n",
    "    plt.plot(time,np.linalg.norm(devl,axis=1))\n",
    "    print(time[np.argmin(np.linalg.norm(devl,axis=1))])\n",
    "    plt.xlabel(\"time (Myr)\")\n",
    "    plt.ylabel(\"std (pc)\")\n",
    "    plt.show()"
   ]
  },
  {
   "cell_type": "code",
   "execution_count": null,
   "metadata": {
    "collapsed": true
   },
   "outputs": [],
   "source": []
  }
 ],
 "metadata": {
  "kernelspec": {
   "display_name": "Python 3",
   "language": "python",
   "name": "python3"
  },
  "language_info": {
   "codemirror_mode": {
    "name": "ipython",
    "version": 3
   },
   "file_extension": ".py",
   "mimetype": "text/x-python",
   "name": "python",
   "nbconvert_exporter": "python",
   "pygments_lexer": "ipython3",
   "version": "3.5.6"
  }
 },
 "nbformat": 4,
 "nbformat_minor": 2
}
